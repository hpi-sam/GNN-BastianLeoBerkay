{
 "cells": [
  {
   "cell_type": "code",
   "execution_count": 1,
   "metadata": {},
   "outputs": [
    {
     "name": "stderr",
     "output_type": "stream",
     "text": [
      "/home/datahog/venvs/py_36/lib/python3.6/site-packages/pandas/compat/__init__.py:117: UserWarning: Could not import the lzma module. Your installed Python is incomplete. Attempting to use lzma compression will result in a RuntimeError.\n",
      "  warnings.warn(msg)\n"
     ]
    }
   ],
   "source": [
    "import pandas as pd\n",
    "from sklearn.preprocessing import LabelEncoder\n",
    "import networkx as nx\n",
    "import matplotlib.pyplot as plt\n",
    "from matplotlib import pylab\n",
    "import pickle\n",
    "import numpy as np\n",
    "import time\n",
    "import itertools\n",
    "from tqdm.notebook import tqdm\n",
    "from multiprocessing import Pool\n",
    "import matplotlib.cm as cm\n",
    "import scipy\n",
    "import community as community_louvain\n",
    "import seaborn as sns\n",
    "import pickle\n",
    "import os\n",
    "from collections import defaultdict\n",
    "from sklearn.model_selection import train_test_split\n",
    "import scipy.sparse as sp\n",
    "from sklearn.metrics import accuracy_score,classification_report\n"
   ]
  },
  {
   "cell_type": "markdown",
   "metadata": {},
   "source": [
    "# Class Definitions\n",
    "adapted from https://github.com/tkipf/ica"
   ]
  },
  {
   "cell_type": "code",
   "execution_count": 2,
   "metadata": {},
   "outputs": [],
   "source": [
    "def get_class(kls):\n",
    "    parts = kls.split('.')\n",
    "    module = \".\".join(parts[:-1])\n",
    "    md = __import__(module)\n",
    "    for comp in parts[1:]:\n",
    "        md = getattr(md, comp)\n",
    "    return md\n",
    "\n",
    "\n",
    "class Classifier(object):\n",
    "    def __init__(self, scikit_classifier_name, **classifier_args):\n",
    "        classifer_class = get_class(scikit_classifier_name)\n",
    "        self.clf = classifer_class(**classifier_args)\n",
    "\n",
    "    def fit(self, graph, train_indices):\n",
    "        raise NotImplementedError\n",
    "\n",
    "    def predict(self, graph, test_indices, conditional_node_to_label_map=None):\n",
    "        raise NotImplementedError\n",
    "\n",
    "\n",
    "class LocalClassifier(Classifier):\n",
    "    def fit(self, graph, train_indices):\n",
    "\n",
    "        feature_list = []\n",
    "        label_list = []\n",
    "        g = graph\n",
    "        n = g.node_list\n",
    "        training_nodes = [n[i] for i in train_indices]\n",
    "\n",
    "        for nodes in training_nodes:\n",
    "            feature_list.append(nodes.feature_vector)\n",
    "            label_list.append(nodes.label)\n",
    "\n",
    "        feature_list = sp.vstack(feature_list)\n",
    "        feature_list = sp.csr_matrix(feature_list, dtype=np.float64)\n",
    "\n",
    "        self.clf.fit(feature_list, label_list)\n",
    "        return\n",
    "\n",
    "    def predict(self, graph, test_indices, conditional_node_to_label_map=None):\n",
    "\n",
    "        feature_list = []\n",
    "        g = graph\n",
    "        n = g.node_list\n",
    "        testing_nodes = [n[i] for i in test_indices]\n",
    "\n",
    "        for nodes in testing_nodes:\n",
    "            feature_list.append(nodes.feature_vector)\n",
    "\n",
    "        feature_list = sp.vstack(feature_list)\n",
    "        feature_list = sp.csr_matrix(feature_list, dtype=np.float64)\n",
    "\n",
    "        y = self.clf.predict(feature_list)\n",
    "        return y\n",
    "\n",
    "\n",
    "class RelationalClassifier(Classifier):\n",
    "    def __init__(self, scikit_classifier_name, aggregator, **classifier_args):class Graph(object):\n",
    "    '''\n",
    "    The base Graph class\n",
    "    '''\n",
    "\n",
    "    def __init__(self):\n",
    "        '''\n",
    "        Create an empty graph\n",
    "        '''\n",
    "        self.node_list = []\n",
    "        self.edge_list = []        \n",
    "    \n",
    "    def add_node(self, n):\n",
    "        self.node_list.append(n)        \n",
    "    \n",
    "    def add_edge(self, e):\n",
    "        abstract()\n",
    "    \n",
    "    def get_neighbors(self, n):\n",
    "        abstract()\n",
    "\n",
    "class Node(object):\n",
    "    def __init__(self, node_id, feature_vector = None, label = None):\n",
    "        self.node_id = node_id\n",
    "        self.feature_vector = feature_vector\n",
    "        self.label = label\n",
    "\n",
    "\n",
    "class Edge(object):\n",
    "    def __init__(self, from_node, to_node, feature_vector = None, label = None):\n",
    "        self.from_node = from_node\n",
    "        self.to_node = to_node\n",
    "        self.feature_vector = feature_vector\n",
    "        self.label = label\n",
    "\n",
    "\n",
    "class DirectedGraph(Graph):\n",
    "    \n",
    "    def __init__(self):\n",
    "        super(DirectedGraph, self).__init__()\n",
    "        self.out_neighbors = defaultdict(set)\n",
    "        self.in_neighbors = defaultdict(set)\n",
    "        self.str_class=[]\n",
    "\n",
    "    def add_edge(self, e):\n",
    "        self.edge_list.append(e)\n",
    "        self.out_neighbors[e.from_node].add(e.to_node)\n",
    "        self.in_neighbors[e.to_node].add(e.from_node)\n",
    "    \n",
    "    def get_out_neighbors(self, n):\n",
    "        return self.out_neighbors[n]\n",
    "    \n",
    "    def get_in_neighbors(self, n):\n",
    "        return self.in_neighbors[n]\n",
    "    \n",
    "    def get_neighbors(self, n):\n",
    "        return self.out_neighbors[n].union(self.in_neighbors[n])\n",
    "\n",
    "class UndirectedGraph(Graph):\n",
    "    \n",
    "    def __init__(self):\n",
    "        super(UndirectedGraph, self).__init__()\n",
    "        self.neighbors = defaultdict(set)        \n",
    "    \n",
    "    def add_edge(self, e):\n",
    "        self.neighbors[e.from_node].add(e.to_node)\n",
    "        self.neighbors[e.to_node].add(e.from_node)\n",
    "    \n",
    "    def get_neighbors(self, n):\n",
    "        return self.neighbors[n]\n",
    "\n",
    "        \n",
    "        super(RelationalClassifier, self).__init__(scikit_classifier_name, **classifier_args)\n",
    "        self.aggregator = aggregator\n",
    "\n",
    "    def fit(self, graph, train_indices, local_classifier, bootstrap):\n",
    "        conditional_map = {}\n",
    "\n",
    "        if bootstrap:\n",
    "            predictclf = local_classifier.predict(graph, range(len(graph.node_list)))\n",
    "            conditional_map = self.cond_mp_upd(graph, conditional_map, predictclf, range(len(graph.node_list)))\n",
    "\n",
    "        for i in train_indices:\n",
    "            conditional_map[graph.node_list[i]] = graph.node_list[i].label\n",
    "        features = []\n",
    "        aggregates = []\n",
    "        labels = []\n",
    "        for i in train_indices:\n",
    "            features.append(graph.node_list[i].feature_vector)\n",
    "            labels.append(graph.node_list[i].label)\n",
    "            aggregates.append(sp.csr_matrix(self.aggregator.aggregate(graph,\n",
    "                                                                      graph.node_list[i],\n",
    "                                                                      conditional_map), dtype=np.float64))\n",
    "        features = sp.vstack(features)\n",
    "        features = sp.csr_matrix(features, dtype=np.float64)\n",
    "        aggregates = sp.vstack(aggregates)\n",
    "        features = sp.hstack([features, aggregates])\n",
    "\n",
    "        self.clf.fit(features, labels)\n",
    "\n",
    "    def predict(self, graph, test_indices, conditional_map=None):\n",
    "        features = []\n",
    "        aggregates = []\n",
    "\n",
    "        for i in test_indices:\n",
    "            features.append(graph.node_list[i].feature_vector)\n",
    "            aggregates.append(sp.csr_matrix(self.aggregator.aggregate(graph,\n",
    "                                                                      graph.node_list[i],\n",
    "                                                                      conditional_map), dtype=np.float64))\n",
    "        features = sp.vstack(features)\n",
    "        features = sp.csr_matrix(features, dtype=np.float64)\n",
    "        aggregates = sp.vstack(aggregates)\n",
    "        features = sp.hstack([features, aggregates])\n",
    "\n",
    "        return self.clf.predict(features)\n",
    "\n",
    "    def cond_mp_upd(self, graph, conditional_map, pred, indices):\n",
    "        for x in range(len(pred)):\n",
    "            conditional_map[graph.node_list[indices[x]]] = pred[x]\n",
    "        return conditional_map\n",
    "\n",
    "\n",
    "class ICA(Classifier):\n",
    "    def __init__(self, local_classifier, relational_classifier, bootstrap, max_iteration=10):\n",
    "        self.local_classifier = local_classifier\n",
    "        self.relational_classifier = relational_classifier\n",
    "        self.bootstrap = bootstrap\n",
    "        self.max_iteration = max_iteration\n",
    "\n",
    "    def fit(self, graph, train_indices):\n",
    "        self.local_classifier.fit(graph, train_indices)\n",
    "        self.relational_classifier.fit(graph, train_indices, self.local_classifier, self.bootstrap)\n",
    "\n",
    "    def predict(self, graph, eval_indices, test_indices, conditional_node_to_label_map=None):\n",
    "        predictclf = self.local_classifier.predict(graph, eval_indices)\n",
    "        conditional_node_to_label_map = self.cond_mp_upd(graph,\n",
    "                                                         conditional_node_to_label_map,\n",
    "                                                         predictclf, eval_indices)\n",
    "\n",
    "        relation_predict = []\n",
    "        temp = []\n",
    "        for iter in range(self.max_iteration):\n",
    "            for x in eval_indices:\n",
    "                temp.append(x)\n",
    "                rltn_pred = list(self.relational_classifier.predict(graph, temp, conditional_node_to_label_map))\n",
    "                conditional_node_to_label_map = self.cond_mp_upd(graph, conditional_node_to_label_map, rltn_pred, temp)\n",
    "                temp.remove(x)\n",
    "        for ti in test_indices:\n",
    "            relation_predict.append(conditional_node_to_label_map[graph.node_list[ticlass Graph(object):\n",
    "    '''\n",
    "    The base Graph class\n",
    "    '''\n",
    "\n",
    "    def __init__(self):\n",
    "        '''\n",
    "        Create an empty graph\n",
    "        '''\n",
    "        self.node_list = []\n",
    "        self.edge_list = []        \n",
    "    \n",
    "    def add_node(self, n):\n",
    "        self.node_list.append(n)        \n",
    "    \n",
    "    def add_edge(self, e):\n",
    "        abstract()\n",
    "    \n",
    "    def get_neighbors(self, n):\n",
    "        abstract()\n",
    "\n",
    "class Node(object):\n",
    "    def __init__(self, node_id, feature_vector = None, label = None):\n",
    "        self.node_id = node_id\n",
    "        self.feature_vector = feature_vector\n",
    "        self.label = label\n",
    "\n",
    "\n",
    "class Edge(object):\n",
    "    def __init__(self, from_node, to_node, feature_vector = None, label = None):\n",
    "        self.from_node = from_node\n",
    "        self.to_node = to_node\n",
    "        self.feature_vector = feature_vector\n",
    "        self.label = label\n",
    "\n",
    "\n",
    "class DirectedGraph(Graph):\n",
    "    \n",
    "    def __init__(self):\n",
    "        super(DirectedGraph, self).__init__()\n",
    "        self.out_neighbors = defaultdict(set)\n",
    "        self.in_neighbors = defaultdict(set)\n",
    "        self.str_class=[]\n",
    "\n",
    "    def add_edge(self, e):\n",
    "        self.edge_list.append(e)\n",
    "        self.out_neighbors[e.from_node].add(e.to_node)\n",
    "        self.in_neighbors[e.to_node].add(e.from_node)\n",
    "    \n",
    "    def get_out_neighbors(self, n):\n",
    "        return self.out_neighbors[n]\n",
    "    \n",
    "    def get_in_neighbors(self, n):\n",
    "        return self.in_neighbors[n]\n",
    "    \n",
    "    def get_neighbors(self, n):\n",
    "        return self.out_neighbors[n].union(self.in_neighbors[n])\n",
    "\n",
    "class UndirectedGraph(Graph):\n",
    "    \n",
    "    def __init__(self):\n",
    "        super(UndirectedGraph, self).__init__()\n",
    "        self.neighbors = defaultdict(set)        \n",
    "    \n",
    "    def add_edge(self, e):\n",
    "        self.neighbors[e.from_node].add(e.to_node)\n",
    "        self.neighbors[e.to_node].add(e.from_node)\n",
    "    \n",
    "    def get_neighbors(self, n):\n",
    "        return self.neighbors[n]\n",
    "\n",
    "        ]])\n",
    "        return relation_predict\n",
    "\n",
    "    def cond_mp_upd(self, graph, conditional_map, pred, indices):\n",
    "        for x in range(len(pred)):\n",
    "            conditional_map[graph.node_list[indices[x]]] = pred[x]\n",
    "        return conditional_map"
   ]
  },
  {
   "cell_type": "code",
   "execution_count": 28,
   "metadata": {},
   "outputs": [],
   "source": [
    "class Graph(object):\n",
    "    '''\n",
    "    The base Graph class\n",
    "    '''\n",
    "\n",
    "    def __init__(self):\n",
    "        '''\n",
    "        Create an empty graph\n",
    "        '''\n",
    "        self.node_list = []\n",
    "        self.edge_list = []        \n",
    "    \n",
    "    def add_node(self, n):\n",
    "        self.node_list.append(n)        \n",
    "    \n",
    "    def add_edge(self, e):\n",
    "        abstract()\n",
    "    \n",
    "    def get_neighbors(self, n):\n",
    "        abstract()\n",
    "\n",
    "class Node(object):\n",
    "    def __init__(self, node_id, feature_vector = None, label = None):\n",
    "        self.node_id = node_id\n",
    "        self.feature_vector = feature_vector\n",
    "        self.label = label\n",
    "\n",
    "\n",
    "class Edge(object):\n",
    "    def __init__(self, from_node, to_node, feature_vector = None, label = None):\n",
    "        self.from_node = from_node\n",
    "        self.to_node = to_node\n",
    "        self.feature_vector = feature_vector\n",
    "        self.label = label\n",
    "\n",
    "\n",
    "class DirectedGraph(Graph):\n",
    "    \n",
    "    def __init__(self):\n",
    "        super(DirectedGraph, self).__init__()\n",
    "        self.out_neighbors = defaultdict(set)\n",
    "        self.in_neighbors = defaultdict(set)\n",
    "        self.str_class=[]\n",
    "\n",
    "    def add_edge(self, e):\n",
    "        self.edge_list.append(e)\n",
    "        self.out_neighbors[e.from_node].add(e.to_node)\n",
    "        self.in_neighbors[e.to_node].add(e.from_node)\n",
    "    \n",
    "    def get_out_neighbors(self, n):\n",
    "        return self.out_neighbors[n]\n",
    "    \n",
    "    def get_in_neighbors(self, n):\n",
    "        return self.in_neighbors[n]\n",
    "    \n",
    "    def get_neighbors(self, n):\n",
    "        return self.out_neighbors[n].union(self.in_neighbors[n])\n",
    "\n",
    "class UndirectedGraph(Graph):\n",
    "    \n",
    "    def __init__(self):\n",
    "        super(UndirectedGraph, self).__init__()\n",
    "        self.neighbors = defaultdict(set)        \n",
    "    \n",
    "    def add_edge(self, e):\n",
    "        self.neighbors[e.from_node].add(e.to_node)\n",
    "        self.neighbors[e.to_node].add(e.from_node)\n",
    "    \n",
    "    def get_neighbors(self, n):\n",
    "        return self.neighbors[n]\n",
    "\n",
    "def build_graph(adj, features, labels):\n",
    "    edges = np.array(adj.nonzero()).T\n",
    "    y_values = np.array(labels.nonzero()).T\n",
    "\n",
    "    domain_labels = []\n",
    "    for i in range(labels.shape[1]):\n",
    "        domain_labels.append(\"c\" + str(i))\n",
    "\n",
    "    # create graph\n",
    "    graph = UndirectedGraph()\n",
    "    id_obj_map = []\n",
    "    for i in tqdm(range(adj.shape[0])):\n",
    "        \n",
    "        n = Node(i, features[i, :], domain_labels[y_values[i, 1]])\n",
    "        graph.add_node(n)\n",
    "        id_obj_map.append(n)\n",
    "    for e in edges:\n",
    "        graph.add_edge(Edge(id_obj_map[e[1]], id_obj_map[e[0]]))\n",
    "\n",
    "    return graph, domain_labels\n",
    "\n",
    "def create_map(graph, train_indices):\n",
    "    conditional_map = {}\n",
    "    for i in train_indices:\n",
    "        conditional_map[graph.node_list[i]] = graph.node_list[i].label\n",
    "    return conditional_map"
   ]
  },
  {
   "cell_type": "code",
   "execution_count": 33,
   "metadata": {},
   "outputs": [],
   "source": [
    "class Aggregator(object):\n",
    "    def __init__(self, domain_labels):\n",
    "        self.domain_labels = domain_labels  # The list of labels in the domain\n",
    "\n",
    "    def aggregate(self, graph, node, conditional_node_to_label_map):\n",
    "        raise NotImplementedError\n",
    "\n",
    "class Count(Aggregator):\n",
    "    def aggregate(self, graph, node, conditional_node_to_label_map):\n",
    "        neighbor_undirected = []\n",
    "\n",
    "        for x in self.domain_labels:\n",
    "            neighbor_undirected.append(0.0)\n",
    "        for i in graph.get_neighbors(node):\n",
    "            if i in conditional_node_to_label_map.keys():\n",
    "                index = self.domain_labels.index(conditional_node_to_label_map[i])\n",
    "                neighbor_undirected[index] += 1.0\n",
    "        return neighbor_undirected\n"
   ]
  },
  {
   "cell_type": "markdown",
   "metadata": {},
   "source": [
    "## Graph building\n",
    "\n",
    "Since we want to use an algortihm for node classification the processing needs to done a bit differently than originally intended. Most of the meta data in attriubte `PROPERTIES` relates to a post, but in our case posts are not the nodes but the edge between nodes (subreddits). This requires us to aggregate the sentiment from all Posts of a subreddit to a singe node classification by averaging `PROPERTIES` and `LINK_SENTIMENT`"
   ]
  },
  {
   "cell_type": "code",
   "execution_count": 8,
   "metadata": {},
   "outputs": [],
   "source": [
    "df = pd.read_csv('../data/soc-redditHyperlinks-body.tsv',sep='\\t')"
   ]
  },
  {
   "cell_type": "code",
   "execution_count": 9,
   "metadata": {},
   "outputs": [],
   "source": [
    "G = nx.Graph()\n",
    "G.add_nodes_from(df['SOURCE_SUBREDDIT'].unique().tolist())\n"
   ]
  },
  {
   "cell_type": "markdown",
   "metadata": {},
   "source": [
    "The meta attributes of a post need to be formatted differently and are then added to the original DataFrame"
   ]
  },
  {
   "cell_type": "code",
   "execution_count": 10,
   "metadata": {},
   "outputs": [
    {
     "data": {
      "application/vnd.jupyter.widget-view+json": {
       "model_id": "8fed87d04cf94482b0c037af45adcd20",
       "version_major": 2,
       "version_minor": 0
      },
      "text/plain": [
       "HBox(children=(FloatProgress(value=0.0, max=286561.0), HTML(value='')))"
      ]
     },
     "metadata": {},
     "output_type": "display_data"
    },
    {
     "name": "stdout",
     "output_type": "stream",
     "text": [
      "\n"
     ]
    }
   ],
   "source": [
    "props = df.pop('PROPERTIES')\n",
    "vals = props.str.split(',').values\n",
    "data = list()\n",
    "for val in tqdm(vals):\n",
    "    data.append(list(map(float,val)))"
   ]
  },
  {
   "cell_type": "code",
   "execution_count": 11,
   "metadata": {},
   "outputs": [],
   "source": [
    "data_df = pd.DataFrame(data)"
   ]
  },
  {
   "cell_type": "code",
   "execution_count": 12,
   "metadata": {},
   "outputs": [],
   "source": [
    "full_df_props = pd.concat((df,data_df),axis=1)"
   ]
  },
  {
   "cell_type": "markdown",
   "metadata": {},
   "source": [
    "Some subreddits never mention another subreddit, to make the aggregation simple we restrict the graph to contain only edges from posts that ever linked to another subreddit"
   ]
  },
  {
   "cell_type": "code",
   "execution_count": 13,
   "metadata": {},
   "outputs": [],
   "source": [
    "mask = full_df_props['TARGET_SUBREDDIT'].isin(full_df_props['SOURCE_SUBREDDIT'])\n"
   ]
  },
  {
   "cell_type": "markdown",
   "metadata": {},
   "source": [
    "Since a single subreddit can mention the same target subreddit mutliple times we need to aggregate the sentiment"
   ]
  },
  {
   "cell_type": "code",
   "execution_count": 14,
   "metadata": {},
   "outputs": [],
   "source": [
    "weights = full_df_props[mask].groupby(['SOURCE_SUBREDDIT','TARGET_SUBREDDIT'])['LINK_SENTIMENT'].mean().reset_index().values"
   ]
  },
  {
   "cell_type": "markdown",
   "metadata": {},
   "source": [
    "Build up new Graph"
   ]
  },
  {
   "cell_type": "code",
   "execution_count": 15,
   "metadata": {},
   "outputs": [],
   "source": [
    "G.add_weighted_edges_from(weights)"
   ]
  },
  {
   "cell_type": "code",
   "execution_count": 16,
   "metadata": {},
   "outputs": [
    {
     "data": {
      "text/plain": [
       "True"
      ]
     },
     "execution_count": 16,
     "metadata": {},
     "output_type": "execute_result"
    }
   ],
   "source": [
    "comps = list(nx.connected_components(G))\n",
    "connected_subgrpah = G.subgraph(comps[0])\n",
    "nx.is_connected(connected_subgrpah)"
   ]
  },
  {
   "cell_type": "markdown",
   "metadata": {},
   "source": [
    "Since some nodes are not connected we use the biggest network (accounting for the majority of nodes) and filter our dataset further so that only features of nodes in a complete subgraph are included"
   ]
  },
  {
   "cell_type": "code",
   "execution_count": 17,
   "metadata": {},
   "outputs": [],
   "source": [
    "mask_connected_comp = full_df_props['SOURCE_SUBREDDIT'].isin(list(connected_subgrpah.nodes))\n",
    "feats_grouped_source = full_df_props[mask_connected_comp].groupby('SOURCE_SUBREDDIT')[data_df.columns].mean()"
   ]
  },
  {
   "cell_type": "markdown",
   "metadata": {},
   "source": [
    "Create the labels for the individual nodes by aggregating all outwards edges to a mean sentiment score of the node. An intuition would maybe be how toxic a certain subreddit is. Afterwards to make this to a classification problem we group the Sentiment into two categories. The negative response (avg Sentiment between -1 and 0.9 and purely 1). We have to group the negative sentiment quite broad due to the enormous class divide."
   ]
  },
  {
   "cell_type": "code",
   "execution_count": 37,
   "metadata": {},
   "outputs": [],
   "source": [
    "labels = pd.get_dummies(\n",
    "    pd.cut(full_df_props[mask_connected_comp].groupby('SOURCE_SUBREDDIT')[\"LINK_SENTIMENT\"].mean(),[-1.1,0.9,1]))\\\n",
    ".values"
   ]
  },
  {
   "cell_type": "markdown",
   "metadata": {},
   "source": [
    "Create attributes required by original code from github link"
   ]
  },
  {
   "cell_type": "code",
   "execution_count": 20,
   "metadata": {},
   "outputs": [],
   "source": [
    "feats = feats_grouped_source.values\n",
    "features = scipy.sparse.csr_matrix(feats).tolil()"
   ]
  },
  {
   "cell_type": "code",
   "execution_count": 21,
   "metadata": {},
   "outputs": [],
   "source": [
    "adj = nx.adjacency_matrix(connected_subgrpah)"
   ]
  },
  {
   "cell_type": "code",
   "execution_count": 32,
   "metadata": {},
   "outputs": [
    {
     "data": {
      "application/vnd.jupyter.widget-view+json": {
       "model_id": "954d814db56041468e78f10db107f34a",
       "version_major": 2,
       "version_minor": 0
      },
      "text/plain": [
       "HBox(children=(FloatProgress(value=0.0, max=26492.0), HTML(value='')))"
      ]
     },
     "metadata": {},
     "output_type": "display_data"
    },
    {
     "name": "stdout",
     "output_type": "stream",
     "text": [
      "\n"
     ]
    }
   ],
   "source": [
    "graph, domain_labels = build_graph(adj, features, labels)"
   ]
  },
  {
   "cell_type": "code",
   "execution_count": 22,
   "metadata": {},
   "outputs": [],
   "source": [
    "all_idx = list(range(len(feats_grouped_source)))"
   ]
  },
  {
   "cell_type": "markdown",
   "metadata": {},
   "source": [
    "Create train,test and validation split"
   ]
  },
  {
   "cell_type": "code",
   "execution_count": 23,
   "metadata": {},
   "outputs": [],
   "source": [
    "X_train, X_test, y_train, y_test = train_test_split(all_idx, labels, test_size=0.2, random_state=1,stratify=labels)\n",
    "\n",
    "X_train, X_val, y_train, y_val = train_test_split(X_train, y_train, random_state=1, stratify=y_train)"
   ]
  },
  {
   "cell_type": "code",
   "execution_count": 24,
   "metadata": {},
   "outputs": [],
   "source": [
    "idx_train = X_train\n",
    "\n",
    "idx_val = X_val\n",
    "\n",
    "idx_test = X_test"
   ]
  },
  {
   "cell_type": "code",
   "execution_count": 30,
   "metadata": {},
   "outputs": [],
   "source": [
    "eval_idx = np.setdiff1d(range(adj.shape[0]), idx_train)\n"
   ]
  },
  {
   "cell_type": "markdown",
   "metadata": {},
   "source": [
    "Do classification"
   ]
  },
  {
   "cell_type": "code",
   "execution_count": 35,
   "metadata": {},
   "outputs": [
    {
     "name": "stdout",
     "output_type": "stream",
     "text": [
      "Iteration:  0\n",
      "Training....\n"
     ]
    },
    {
     "name": "stderr",
     "output_type": "stream",
     "text": [
      "/home/datahog/venvs/py_36/lib/python3.6/site-packages/sklearn/linear_model/_logistic.py:764: ConvergenceWarning: lbfgs failed to converge (status=1):\n",
      "STOP: TOTAL NO. of ITERATIONS REACHED LIMIT.\n",
      "\n",
      "Increase the number of iterations (max_iter) or scale the data as shown in:\n",
      "    https://scikit-learn.org/stable/modules/preprocessing.html\n",
      "Please also refer to the documentation for alternative solver options:\n",
      "    https://scikit-learn.org/stable/modules/linear_model.html#logistic-regression\n",
      "  extra_warning_msg=_LOGISTIC_SOLVER_CONVERGENCE_MSG)\n",
      "/home/datahog/venvs/py_36/lib/python3.6/site-packages/sklearn/linear_model/_logistic.py:764: ConvergenceWarning: lbfgs failed to converge (status=1):\n",
      "STOP: TOTAL NO. of ITERATIONS REACHED LIMIT.\n",
      "\n",
      "Increase the number of iterations (max_iter) or scale the data as shown in:\n",
      "    https://scikit-learn.org/stable/modules/preprocessing.html\n",
      "Please also refer to the documentation for alternative solver options:\n",
      "    https://scikit-learn.org/stable/modules/linear_model.html#logistic-regression\n",
      "  extra_warning_msg=_LOGISTIC_SOLVER_CONVERGENCE_MSG)\n"
     ]
    },
    {
     "name": "stdout",
     "output_type": "stream",
     "text": [
      "Training done!\n",
      "Prediction...\n",
      "Prediction Done!\n",
      "              precision    recall  f1-score   support\n",
      "\n",
      "          c0       0.00      0.00      0.00         4\n",
      "          c1       1.00      0.87      0.93      5295\n",
      "\n",
      "    accuracy                           0.87      5299\n",
      "   macro avg       0.50      0.44      0.47      5299\n",
      "weighted avg       1.00      0.87      0.93      5299\n",
      "\n"
     ]
    }
   ],
   "source": [
    "for ep in range(1):\n",
    "    print('Iteration: ',ep)\n",
    "    np.random.shuffle(eval_idx)\n",
    "    y_true = [graph.node_list[t].label for t in idx_test]\n",
    "    local_clf = LocalClassifier('sklearn.linear_model.LogisticRegression')\n",
    "    agg = Count(domain_labels)\n",
    "    relational_clf = RelationalClassifier('sklearn.linear_model.LogisticRegression', agg)\n",
    "    ica = ICA(local_clf, relational_clf, True, max_iteration=10)\n",
    "    print('Training....')\n",
    "    ica.fit(graph, idx_train)\n",
    "    print('Training done!')\n",
    "    conditional_node_to_label_map = create_map(graph, idx_train)\n",
    "    print('Prediction...')\n",
    "    ica_predict = ica.predict(graph, eval_idx, idx_test, conditional_node_to_label_map)\n",
    "    print('Prediction Done!')\n",
    "    print(classification_report(ica_predict,y_true))"
   ]
  },
  {
   "cell_type": "markdown",
   "metadata": {},
   "source": [
    "# ToDo\n",
    "\n",
    "- Currently accuracy is mainly driven by majority class, need to either undersample majority or oversample minority as a probable solution. Possible weighting inverse to occurences might help as well but need to be tested\n",
    "\n",
    "- Overall performance of IC is abysmal need to parallelize almost everything. For some reason prediction seems to be way slower than training"
   ]
  },
  {
   "cell_type": "code",
   "execution_count": null,
   "metadata": {},
   "outputs": [],
   "source": []
  }
 ],
 "metadata": {
  "kernelspec": {
   "display_name": "Python 3",
   "language": "python",
   "name": "python3"
  },
  "language_info": {
   "codemirror_mode": {
    "name": "ipython",
    "version": 3
   },
   "file_extension": ".py",
   "mimetype": "text/x-python",
   "name": "python",
   "nbconvert_exporter": "python",
   "pygments_lexer": "ipython3",
   "version": "3.6.3"
  }
 },
 "nbformat": 4,
 "nbformat_minor": 4
}

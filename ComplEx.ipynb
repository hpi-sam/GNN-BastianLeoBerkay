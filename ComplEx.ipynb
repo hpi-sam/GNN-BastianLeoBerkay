{
  "nbformat": 4,
  "nbformat_minor": 0,
  "metadata": {
    "kernelspec": {
      "display_name": "Python 3",
      "language": "python",
      "name": "python3"
    },
    "language_info": {
      "codemirror_mode": {
        "name": "ipython",
        "version": 3
      },
      "file_extension": ".py",
      "mimetype": "text/x-python",
      "name": "python",
      "nbconvert_exporter": "python",
      "pygments_lexer": "ipython3",
      "version": "3.6.3"
    },
    "colab": {
      "name": "ComplEx.ipynb",
      "provenance": [],
      "collapsed_sections": []
    },
    "accelerator": "GPU"
  },
  "cells": [
    {
      "cell_type": "code",
      "metadata": {
        "id": "_eKYaJe_cmhd",
        "colab": {
          "base_uri": "https://localhost:8080/"
        },
        "outputId": "d5eabe92-816a-495d-ea54-7f8b0db9f44e"
      },
      "source": [
        "import pandas as pd\n",
        "from sklearn.preprocessing import LabelEncoder\n",
        "import networkx as nx\n",
        "import matplotlib.pyplot as plt\n",
        "from matplotlib import pylab\n",
        "import pickle\n",
        "import numpy as np\n",
        "import time\n",
        "import itertools\n",
        "from tqdm.notebook import tqdm\n",
        "from multiprocessing import Pool\n",
        "import matplotlib.cm as cm\n",
        "import scipy\n",
        "import community as community_louvain\n",
        "import seaborn as sns\n",
        "import pickle\n",
        "import os\n",
        "from collections import defaultdict\n",
        "from sklearn.model_selection import train_test_split\n",
        "import scipy.sparse as sp\n",
        "from sklearn.metrics import accuracy_score,classification_report\n",
        "import keras\n",
        "\n",
        "import sys\n",
        "if 'google.colab' in sys.modules:\n",
        "  %pip install -q stellargraph[demos]==1.2.1\n"
      ],
      "execution_count": null,
      "outputs": [
        {
          "output_type": "stream",
          "text": [
            "\u001b[K     |████████████████████████████████| 440kB 14.2MB/s \n",
            "\u001b[K     |████████████████████████████████| 235kB 46.5MB/s \n",
            "\u001b[K     |████████████████████████████████| 51kB 8.5MB/s \n",
            "\u001b[?25h  Building wheel for mplleaflet (setup.py) ... \u001b[?25l\u001b[?25hdone\n"
          ],
          "name": "stdout"
        }
      ]
    },
    {
      "cell_type": "code",
      "metadata": {
        "id": "TepeG6H-udgo"
      },
      "source": [
        "import stellargraph as sg\n",
        "\n",
        "try:\n",
        "    sg.utils.validate_notebook_version(\"1.2.1\")\n",
        "except AttributeError:\n",
        "    raise ValueError(\n",
        "        f\"This notebook requires StellarGraph version 1.2.1, but a different version {sg.__version__} is installed.  Please see <https://github.com/stellargraph/stellargraph/issues/1172>.\"\n",
        "    ) from None"
      ],
      "execution_count": null,
      "outputs": []
    },
    {
      "cell_type": "code",
      "metadata": {
        "id": "y1n60Po3uf1B"
      },
      "source": [
        "from stellargraph import StellarGraph,StellarDiGraph"
      ],
      "execution_count": null,
      "outputs": []
    },
    {
      "cell_type": "code",
      "metadata": {
        "id": "2NnDhSFsEdwZ"
      },
      "source": [
        "from stellargraph import datasets, utils\n",
        "from tensorflow.keras import callbacks, optimizers, losses, metrics, regularizers, Model\n",
        "import numpy as np\n",
        "import pandas as pd\n",
        "\n",
        "from stellargraph.mapper import KGTripleGenerator\n",
        "from stellargraph.layer import ComplEx\n",
        "\n",
        "from IPython.display import HTML"
      ],
      "execution_count": null,
      "outputs": []
    },
    {
      "cell_type": "code",
      "metadata": {
        "colab": {
          "base_uri": "https://localhost:8080/"
        },
        "id": "WiBLvysccqn-",
        "outputId": "02f33259-b5cd-4581-ba64-2122297d1f15"
      },
      "source": [
        "from google.colab import drive\n",
        "drive.mount(\"/content/drive\")"
      ],
      "execution_count": null,
      "outputs": [
        {
          "output_type": "stream",
          "text": [
            "Mounted at /content/drive\n"
          ],
          "name": "stdout"
        }
      ]
    },
    {
      "cell_type": "code",
      "metadata": {
        "colab": {
          "base_uri": "https://localhost:8080/"
        },
        "id": "oeyg0eZicxET",
        "outputId": "e38f6b6d-5af8-448c-9383-86a55ca7044e"
      },
      "source": [
        "cd drive/MyDrive/gnn"
      ],
      "execution_count": null,
      "outputs": [
        {
          "output_type": "stream",
          "text": [
            "/content/drive/MyDrive/gnn\n"
          ],
          "name": "stdout"
        }
      ]
    },
    {
      "cell_type": "code",
      "metadata": {
        "id": "0yV-d05hcmht"
      },
      "source": [
        "df = pd.read_csv('soc-redditHyperlinks-body.tsv',sep='\\t')"
      ],
      "execution_count": null,
      "outputs": []
    },
    {
      "cell_type": "code",
      "metadata": {
        "colab": {
          "base_uri": "https://localhost:8080/"
        },
        "collapsed": true,
        "id": "RNllL28ZMiSz",
        "outputId": "3dfa9a23-74e5-45fa-9be0-8558f7b5e193"
      },
      "source": [
        "print(df.columns)\n",
        "print(df['LINK_SENTIMENT'].values[0:10])"
      ],
      "execution_count": null,
      "outputs": [
        {
          "output_type": "stream",
          "text": [
            "Index(['SOURCE_SUBREDDIT', 'TARGET_SUBREDDIT', 'POST_ID', 'TIMESTAMP',\n",
            "       'LINK_SENTIMENT', 'PROPERTIES'],\n",
            "      dtype='object')\n",
            "[ 1 -1  1  1  1  1  1  1  1  1]\n"
          ],
          "name": "stdout"
        }
      ]
    },
    {
      "cell_type": "code",
      "metadata": {
        "id": "vy_COglCcmhu"
      },
      "source": [
        "nodes = df['SOURCE_SUBREDDIT'].unique().tolist()\n",
        "nodes.extend(df['TARGET_SUBREDDIT'].unique().tolist())\n"
      ],
      "execution_count": null,
      "outputs": []
    },
    {
      "cell_type": "code",
      "metadata": {
        "colab": {
          "base_uri": "https://localhost:8080/"
        },
        "id": "UP5VOSPtcAfb",
        "outputId": "55f0dc3c-b607-4396-f3ff-ac5519f8bbd8"
      },
      "source": [
        "reddit_edges = pd.DataFrame(\n",
        "    {\"source\": df['SOURCE_SUBREDDIT'], \"target\": df['TARGET_SUBREDDIT']}\n",
        ")\n",
        "print(reddit_edges)"
      ],
      "execution_count": null,
      "outputs": [
        {
          "output_type": "stream",
          "text": [
            "                     source             target\n",
            "0           leagueoflegends    teamredditteams\n",
            "1                theredlion             soccer\n",
            "2              inlandempire             bikela\n",
            "3                       nfl                cfb\n",
            "4                playmygame            gamedev\n",
            "...                     ...                ...\n",
            "286556           negareddit      debatefascism\n",
            "286557          mildlynomil          justnomil\n",
            "286558               mmorpg  blackdesertonline\n",
            "286559  electricskateboards          askreddit\n",
            "286560                mgtow    dataisbeautiful\n",
            "\n",
            "[286561 rows x 2 columns]\n"
          ],
          "name": "stdout"
        }
      ]
    },
    {
      "cell_type": "code",
      "metadata": {
        "colab": {
          "base_uri": "https://localhost:8080/"
        },
        "id": "wkBnZlnrcAxl",
        "outputId": "c0d37094-85a3-4d34-bbe4-cabc356f462d"
      },
      "source": [
        "df['LINK_SENTIMENT'][df['LINK_SENTIMENT']==-1]=\"neg\"\n",
        "df['LINK_SENTIMENT'][df['LINK_SENTIMENT']==1]=\"pos\"\n",
        "\n",
        "neglen=df['LINK_SENTIMENT'][df['LINK_SENTIMENT']==\"neg\"].shape[0]\n",
        "poslen=df['LINK_SENTIMENT'][df['LINK_SENTIMENT']==\"pos\"].shape[0]\n",
        "\n",
        "\n",
        "reddit_edges = reddit_edges.assign(\n",
        "    label=df['LINK_SENTIMENT']\n",
        ")\n",
        "print(reddit_edges)\n",
        "print(neglen,poslen)\n",
        "\n",
        "total=neglen+poslen\n",
        "weight_for_0 = (1 / neglen)*(total)/2.0 \n",
        "weight_for_1 = (1 / poslen)*(total)/2.0\n",
        "\n",
        "class_weight = {0: weight_for_0, 1: weight_for_1}\n",
        "\n",
        "print('Weight for class 0: {:.2f}'.format(weight_for_0))\n",
        "print('Weight for class 1: {:.2f}'.format(weight_for_1))"
      ],
      "execution_count": null,
      "outputs": [
        {
          "output_type": "stream",
          "text": [
            "                     source             target label\n",
            "0           leagueoflegends    teamredditteams   pos\n",
            "1                theredlion             soccer   neg\n",
            "2              inlandempire             bikela   pos\n",
            "3                       nfl                cfb   pos\n",
            "4                playmygame            gamedev   pos\n",
            "...                     ...                ...   ...\n",
            "286556           negareddit      debatefascism   pos\n",
            "286557          mildlynomil          justnomil   pos\n",
            "286558               mmorpg  blackdesertonline   pos\n",
            "286559  electricskateboards          askreddit   pos\n",
            "286560                mgtow    dataisbeautiful   pos\n",
            "\n",
            "[286561 rows x 3 columns]\n",
            "21070 265491\n",
            "Weight for class 0: 6.80\n",
            "Weight for class 1: 0.54\n"
          ],
          "name": "stdout"
        },
        {
          "output_type": "stream",
          "text": [
            "/usr/local/lib/python3.7/dist-packages/ipykernel_launcher.py:1: SettingWithCopyWarning: \n",
            "A value is trying to be set on a copy of a slice from a DataFrame\n",
            "\n",
            "See the caveats in the documentation: https://pandas.pydata.org/pandas-docs/stable/user_guide/indexing.html#returning-a-view-versus-a-copy\n",
            "  \"\"\"Entry point for launching an IPython kernel.\n"
          ],
          "name": "stderr"
        }
      ]
    },
    {
      "cell_type": "code",
      "metadata": {
        "colab": {
          "base_uri": "https://localhost:8080/"
        },
        "id": "2YMQ3F6hcBEt",
        "outputId": "d9fca63d-d5d9-427d-c0b9-b3978380d614"
      },
      "source": [
        "reddit_edges_stellar = StellarDiGraph(\n",
        "    edges=reddit_edges, edge_type_column=\"label\"\n",
        ")\n",
        "print(reddit_edges_stellar.info())"
      ],
      "execution_count": null,
      "outputs": [
        {
          "output_type": "stream",
          "text": [
            "StellarDiGraph: Directed multigraph\n",
            " Nodes: 35776, Edges: 286561\n",
            "\n",
            " Node types:\n",
            "  default: [35776]\n",
            "    Features: none\n",
            "    Edge types: default-neg->default, default-pos->default\n",
            "\n",
            " Edge types:\n",
            "    default-pos->default: [265491]\n",
            "        Weights: all 1 (default)\n",
            "        Features: none\n",
            "    default-neg->default: [21070]\n",
            "        Weights: all 1 (default)\n",
            "        Features: none\n"
          ],
          "name": "stdout"
        }
      ]
    },
    {
      "cell_type": "code",
      "metadata": {
        "colab": {
          "base_uri": "https://localhost:8080/"
        },
        "id": "00mDA5ZJcBXf",
        "outputId": "d1d06779-20a8-4057-f365-2337fe4b68fd"
      },
      "source": [
        "from sklearn import model_selection\n",
        "\n",
        "reddit_train, reddit_test = model_selection.train_test_split(\n",
        "    reddit_edges, train_size=0.20, random_state=123\n",
        ")\n",
        "print(reddit_train)"
      ],
      "execution_count": null,
      "outputs": [
        {
          "output_type": "stream",
          "text": [
            "                     source                target label\n",
            "254242              askmath             learnmath   pos\n",
            "137301                 sb4b    imaginarydialogues   pos\n",
            "200188                 vive                 kodon   pos\n",
            "89634   mindcrackdiscussion             mindcrack   pos\n",
            "225494            smashbros                 ssbpm   pos\n",
            "...                     ...                   ...   ...\n",
            "192476              askcops         legaladviceuk   neg\n",
            "17730            futurology  thisisthewayitwillbe   pos\n",
            "28030                 drugs             askreddit   pos\n",
            "277869           parahumans          mylittlepony   pos\n",
            "249342                  nfl       tennesseetitans   pos\n",
            "\n",
            "[57312 rows x 3 columns]\n"
          ],
          "name": "stdout"
        }
      ]
    },
    {
      "cell_type": "code",
      "metadata": {
        "colab": {
          "base_uri": "https://localhost:8080/",
          "height": 54
        },
        "id": "IVgY0XgHcBu5",
        "outputId": "e8e5f7ae-3be3-4ee9-9454-3c7332b21633"
      },
      "source": [
        "\"\"\"train_reddit_edges_stellar = StellarGraph(\n",
        "    edges=reddit_train, edge_type_column=\"label\"\n",
        ")\n",
        "print(train_reddit_edges_stellar.info())\"\"\""
      ],
      "execution_count": null,
      "outputs": [
        {
          "output_type": "execute_result",
          "data": {
            "application/vnd.google.colaboratory.intrinsic+json": {
              "type": "string"
            },
            "text/plain": [
              "'train_reddit_edges_stellar = StellarGraph(\\n    edges=reddit_train, edge_type_column=\"label\"\\n)\\nprint(train_reddit_edges_stellar.info())'"
            ]
          },
          "metadata": {
            "tags": []
          },
          "execution_count": 30
        }
      ]
    },
    {
      "cell_type": "code",
      "metadata": {
        "colab": {
          "base_uri": "https://localhost:8080/",
          "height": 37
        },
        "id": "NAtaUUxT0P-B",
        "outputId": "bc2ff257-47eb-4515-bb18-1ca4f1be6c15"
      },
      "source": [
        "\"\"\"test_reddit_edges_stellar = StellarGraph(\n",
        "    edges=reddit_test, edge_type_column=\"label\"\n",
        ")\"\"\"\n"
      ],
      "execution_count": null,
      "outputs": [
        {
          "output_type": "execute_result",
          "data": {
            "application/vnd.google.colaboratory.intrinsic+json": {
              "type": "string"
            },
            "text/plain": [
              "'test_reddit_edges_stellar = StellarGraph(\\n    edges=reddit_test, edge_type_column=\"label\"\\n)'"
            ]
          },
          "metadata": {
            "tags": []
          },
          "execution_count": 31
        }
      ]
    },
    {
      "cell_type": "code",
      "metadata": {
        "id": "Q8TFD42KxsP7"
      },
      "source": [
        ""
      ],
      "execution_count": null,
      "outputs": []
    },
    {
      "cell_type": "markdown",
      "metadata": {
        "id": "Um8AVkGmFbRW"
      },
      "source": [
        ""
      ]
    },
    {
      "cell_type": "code",
      "metadata": {
        "colab": {
          "base_uri": "https://localhost:8080/"
        },
        "id": "lViTdCqF0JLx",
        "outputId": "6262ea7f-1fff-40c9-b166-0c2203c9b1d0"
      },
      "source": [
        "epochs = 50\n",
        "embedding_dimension = 300\n",
        "negative_samples = 10\n",
        "\n",
        "wn18_gen = KGTripleGenerator(\n",
        "    reddit_edges_stellar, batch_size=len(reddit_train) // 100  # ~100 batches per epoch\n",
        ")\n",
        "\n",
        "wn18_complex = ComplEx(\n",
        "    wn18_gen,\n",
        "    embedding_dimension=embedding_dimension,\n",
        "    embeddings_regularizer=regularizers.l2(1e-7),\n",
        ")\n",
        "\n",
        "\n",
        "\n",
        "wn18_inp, wn18_out = wn18_complex.in_out_tensors()\n",
        "\n",
        "\n",
        "\n",
        "node_embs_complex,edge_embs_complex=wn18_complex.embedding_arrays()\n",
        "print(node_embs_complex[0])\n",
        "\n",
        "wn18_model = Model(inputs=wn18_inp, outputs=wn18_out)\n",
        "\n",
        "METRICS = [\n",
        "      keras.metrics.TruePositives(name='tp'),\n",
        "      keras.metrics.FalsePositives(name='fp'),\n",
        "      keras.metrics.TrueNegatives(name='tn'),\n",
        "      keras.metrics.FalseNegatives(name='fn'), \n",
        "      keras.metrics.BinaryAccuracy(name='accuracy'),\n",
        "      keras.metrics.Precision(name='precision'),\n",
        "      keras.metrics.Recall(name='recall'),\n",
        "      keras.metrics.AUC(name='auc'),\n",
        "]\n",
        "\n",
        "wn18_model.compile(\n",
        "    optimizer=optimizers.Adam(lr=0.001),\n",
        "    loss=losses.BinaryCrossentropy(from_logits=True),\n",
        "    metrics=metrics.BinaryAccuracy(threshold=0),\n",
        "\n",
        ")\n",
        "\n"
      ],
      "execution_count": null,
      "outputs": [
        {
          "output_type": "stream",
          "text": [
            "[[-0.03262436-0.00570691j  0.01181255-0.07110194j -0.10572022+0.06143561j\n",
            "  ... -0.01470553+0.02746347j  0.00828997+0.04532301j\n",
            "  -0.03612151+0.0566374j ]\n",
            " [ 0.05415663-0.01416976j -0.05817919+0.04850112j -0.05258961+0.02938786j\n",
            "  ...  0.03157713-0.05089438j -0.0274036 -0.00593297j\n",
            "  -0.01487914+0.00349212j]\n",
            " [ 0.05867521+0.0569015j  -0.05066558+0.08585706j -0.0841627 +0.07394387j\n",
            "  ... -0.09166438+0.06123127j -0.06624271-0.00661601j\n",
            "   0.07179194-0.08095455j]\n",
            " ...\n",
            " [-0.04915184+0.04858829j -0.01114033-0.03289799j -0.00922474-0.02949662j\n",
            "  ...  0.02463867+0.03333871j -0.04007964+0.03847845j\n",
            "   0.08754524-0.00476685j]\n",
            " [ 0.05097506-0.0362643j  -0.0414005 -0.03817755j -0.03035891+0.0863092j\n",
            "  ...  0.05129181+0.09852513j -0.14502779+0.01412467j\n",
            "  -0.07876498-0.01740242j]\n",
            " [ 0.04701321-0.00295238j -0.00666641+0.09132772j -0.01402313-0.01549746j\n",
            "  ...  0.02920448+0.00190334j  0.06088867-0.00176668j\n",
            "  -0.04123513-0.04060484j]]\n"
          ],
          "name": "stdout"
        }
      ]
    },
    {
      "cell_type": "code",
      "metadata": {
        "id": "7jfUP_7A0JfA"
      },
      "source": [
        "wn18_train_gen = wn18_gen.flow(\n",
        "    reddit_train, negative_samples=negative_samples, shuffle=True\n",
        ")\n",
        "wn18_valid_gen = wn18_gen.flow(reddit_test, negative_samples=negative_samples)"
      ],
      "execution_count": null,
      "outputs": []
    },
    {
      "cell_type": "code",
      "metadata": {
        "colab": {
          "base_uri": "https://localhost:8080/"
        },
        "id": "W6l9KyDf0Jy_",
        "outputId": "6c13594e-e941-4b53-b8a8-e70198f50850"
      },
      "source": [
        "wn18_es = callbacks.EarlyStopping(monitor=\"val_loss\", patience=10)\n",
        "wn18_history = wn18_model.fit(\n",
        "    wn18_train_gen, validation_data=wn18_valid_gen, epochs=epochs, callbacks=[wn18_es],class_weight=class_weight\n",
        ")"
      ],
      "execution_count": null,
      "outputs": [
        {
          "output_type": "stream",
          "text": [
            "Epoch 1/50\n",
            "101/101 [==============================] - 23s 220ms/step - loss: 4.3226 - binary_accuracy: 0.5003 - val_loss: 0.6966 - val_binary_accuracy: 0.5053\n",
            "Epoch 2/50\n",
            "101/101 [==============================] - 22s 217ms/step - loss: 4.3222 - binary_accuracy: 0.5123 - val_loss: 0.6961 - val_binary_accuracy: 0.5702\n",
            "Epoch 3/50\n",
            "101/101 [==============================] - 22s 216ms/step - loss: 4.3009 - binary_accuracy: 0.6687 - val_loss: 0.6660 - val_binary_accuracy: 0.9059\n",
            "Epoch 4/50\n",
            "101/101 [==============================] - 22s 216ms/step - loss: 3.6691 - binary_accuracy: 0.9083 - val_loss: 0.4783 - val_binary_accuracy: 0.9091\n",
            "Epoch 5/50\n",
            "101/101 [==============================] - 22s 217ms/step - loss: 1.5626 - binary_accuracy: 0.9091 - val_loss: 0.4090 - val_binary_accuracy: 0.9091\n",
            "Epoch 6/50\n",
            "101/101 [==============================] - 22s 217ms/step - loss: 0.6346 - binary_accuracy: 0.9101 - val_loss: 0.3416 - val_binary_accuracy: 0.9153\n",
            "Epoch 7/50\n",
            "101/101 [==============================] - 22s 215ms/step - loss: 0.3781 - binary_accuracy: 0.9163 - val_loss: 0.3271 - val_binary_accuracy: 0.9175\n",
            "Epoch 8/50\n",
            "101/101 [==============================] - 22s 216ms/step - loss: 0.2929 - binary_accuracy: 0.9181 - val_loss: 0.3214 - val_binary_accuracy: 0.9181\n",
            "Epoch 9/50\n",
            "101/101 [==============================] - 22s 217ms/step - loss: 0.2533 - binary_accuracy: 0.9195 - val_loss: 0.3150 - val_binary_accuracy: 0.9198\n",
            "Epoch 10/50\n",
            "101/101 [==============================] - 22s 216ms/step - loss: 0.2294 - binary_accuracy: 0.9214 - val_loss: 0.3080 - val_binary_accuracy: 0.9221\n",
            "Epoch 11/50\n",
            "101/101 [==============================] - 22s 216ms/step - loss: 0.2125 - binary_accuracy: 0.9242 - val_loss: 0.3004 - val_binary_accuracy: 0.9253\n",
            "Epoch 12/50\n",
            "101/101 [==============================] - 22s 217ms/step - loss: 0.1959 - binary_accuracy: 0.9283 - val_loss: 0.2920 - val_binary_accuracy: 0.9288\n",
            "Epoch 13/50\n",
            "101/101 [==============================] - 22s 216ms/step - loss: 0.1814 - binary_accuracy: 0.9322 - val_loss: 0.2847 - val_binary_accuracy: 0.9315\n",
            "Epoch 14/50\n",
            "101/101 [==============================] - 22s 216ms/step - loss: 0.1653 - binary_accuracy: 0.9366 - val_loss: 0.2773 - val_binary_accuracy: 0.9345\n",
            "Epoch 15/50\n",
            "101/101 [==============================] - 22s 215ms/step - loss: 0.1507 - binary_accuracy: 0.9405 - val_loss: 0.2713 - val_binary_accuracy: 0.9373\n",
            "Epoch 16/50\n",
            "101/101 [==============================] - 22s 217ms/step - loss: 0.1353 - binary_accuracy: 0.9450 - val_loss: 0.2699 - val_binary_accuracy: 0.9397\n",
            "Epoch 17/50\n",
            "101/101 [==============================] - 22s 217ms/step - loss: 0.1220 - binary_accuracy: 0.9503 - val_loss: 0.2708 - val_binary_accuracy: 0.9412\n",
            "Epoch 18/50\n",
            "101/101 [==============================] - 22s 215ms/step - loss: 0.1101 - binary_accuracy: 0.9552 - val_loss: 0.2724 - val_binary_accuracy: 0.9429\n",
            "Epoch 19/50\n",
            "101/101 [==============================] - 22s 217ms/step - loss: 0.1000 - binary_accuracy: 0.9607 - val_loss: 0.2759 - val_binary_accuracy: 0.9439\n",
            "Epoch 20/50\n",
            "101/101 [==============================] - 22s 218ms/step - loss: 0.0912 - binary_accuracy: 0.9659 - val_loss: 0.2801 - val_binary_accuracy: 0.9449\n",
            "Epoch 21/50\n",
            "101/101 [==============================] - 22s 215ms/step - loss: 0.0844 - binary_accuracy: 0.9715 - val_loss: 0.2863 - val_binary_accuracy: 0.9453\n",
            "Epoch 22/50\n",
            "101/101 [==============================] - 22s 217ms/step - loss: 0.0784 - binary_accuracy: 0.9764 - val_loss: 0.2918 - val_binary_accuracy: 0.9457\n",
            "Epoch 23/50\n",
            "101/101 [==============================] - 22s 219ms/step - loss: 0.0761 - binary_accuracy: 0.9793 - val_loss: 0.2972 - val_binary_accuracy: 0.9461\n",
            "Epoch 24/50\n",
            "101/101 [==============================] - 22s 217ms/step - loss: 0.0732 - binary_accuracy: 0.9819 - val_loss: 0.3031 - val_binary_accuracy: 0.9461\n",
            "Epoch 25/50\n",
            "101/101 [==============================] - 22s 215ms/step - loss: 0.0695 - binary_accuracy: 0.9842 - val_loss: 0.3077 - val_binary_accuracy: 0.9464\n",
            "Epoch 26/50\n",
            "101/101 [==============================] - 22s 218ms/step - loss: 0.0684 - binary_accuracy: 0.9852 - val_loss: 0.3135 - val_binary_accuracy: 0.9461\n"
          ],
          "name": "stdout"
        }
      ]
    },
    {
      "cell_type": "code",
      "metadata": {
        "colab": {
          "base_uri": "https://localhost:8080/",
          "height": 37
        },
        "id": "eZf9uoA-9frO",
        "outputId": "6f07dcbd-ccbd-4cac-d92d-5669cd25869a"
      },
      "source": [
        "\"\"\"from sklearn.metrics import roc_auc_score\n",
        "roc_auc_score(reddit_test, clf.predict_proba(X)[:, 1])\"\"\""
      ],
      "execution_count": null,
      "outputs": [
        {
          "output_type": "execute_result",
          "data": {
            "application/vnd.google.colaboratory.intrinsic+json": {
              "type": "string"
            },
            "text/plain": [
              "'from sklearn.metrics import roc_auc_score\\nroc_auc_score(reddit_test, clf.predict_proba(X)[:, 1])'"
            ]
          },
          "metadata": {
            "tags": []
          },
          "execution_count": 35
        }
      ]
    },
    {
      "cell_type": "code",
      "metadata": {
        "id": "do6HncKd9rD8"
      },
      "source": [
        "\n"
      ],
      "execution_count": null,
      "outputs": []
    },
    {
      "cell_type": "code",
      "metadata": {
        "colab": {
          "base_uri": "https://localhost:8080/"
        },
        "id": "QqP8-hf1AYrC",
        "outputId": "c564821e-b537-40c6-f472-81657cdaf39e"
      },
      "source": [
        "print(len(wn18_model.predict(wn18_valid_gen)))"
      ],
      "execution_count": null,
      "outputs": [
        {
          "output_type": "stream",
          "text": [
            "2521739\n"
          ],
          "name": "stdout"
        }
      ]
    },
    {
      "cell_type": "code",
      "metadata": {
        "colab": {
          "base_uri": "https://localhost:8080/",
          "height": 585
        },
        "id": "EbWBV6_00KGZ",
        "outputId": "8477dacf-4e9c-4c18-bfc0-ee4633ab5fe5"
      },
      "source": [
        "utils.plot_history(wn18_history)"
      ],
      "execution_count": null,
      "outputs": [
        {
          "output_type": "display_data",
          "data": {
            "image/png": "[encoded data removed]",
            "text/plain": [
              "<Figure size 504x576 with 2 Axes>"
            ]
          },
          "metadata": {
            "tags": [],
            "needs_background": "light"
          }
        }
      ]
    },
    {
      "cell_type": "code",
      "metadata": {
        "id": "P89Hk4RrHZV2"
      },
      "source": [
        "wn18_raw_ranks, wn18_filtered_ranks = wn18_complex.rank_edges_against_all_nodes(\n",
        "    wn18_gen.flow(reddit_test), reddit_edges_stellar\n",
        ")"
      ],
      "execution_count": null,
      "outputs": []
    },
    {
      "cell_type": "code",
      "metadata": {
        "id": "hC0KFV0dHghg"
      },
      "source": [
        "def results_as_dataframe(name_to_results):\n",
        "    return pd.DataFrame(\n",
        "        name_to_results.values(),\n",
        "        columns=[\"mrr\", \"hits at 1\", \"hits at 3\", \"hits at 10\"],\n",
        "        index=name_to_results.keys(),\n",
        "    )\n",
        "\n",
        "\n",
        "def summarise(name_to_ranks):\n",
        "    return results_as_dataframe(\n",
        "        {\n",
        "            name: (\n",
        "                np.mean(1 / ranks),\n",
        "                np.mean(ranks <= 1),\n",
        "                np.mean(ranks < 3),\n",
        "                np.mean(ranks <= 10),\n",
        "            )\n",
        "            for name, ranks in name_to_ranks.items()\n",
        "        }\n",
        "    )"
      ],
      "execution_count": null,
      "outputs": []
    },
    {
      "cell_type": "code",
      "metadata": {
        "colab": {
          "base_uri": "https://localhost:8080/",
          "height": 111
        },
        "id": "xtF6EEGxHj8J",
        "outputId": "9e5da766-6a71-4be3-c205-c1919bf6e74b"
      },
      "source": [
        "summarise({\"raw\": wn18_raw_ranks, \"filtered\": wn18_filtered_ranks})"
      ],
      "execution_count": null,
      "outputs": [
        {
          "output_type": "execute_result",
          "data": {
            "text/html": [
              "<div>\n",
              "<style scoped>\n",
              "    .dataframe tbody tr th:only-of-type {\n",
              "        vertical-align: middle;\n",
              "    }\n",
              "\n",
              "    .dataframe tbody tr th {\n",
              "        vertical-align: top;\n",
              "    }\n",
              "\n",
              "    .dataframe thead th {\n",
              "        text-align: right;\n",
              "    }\n",
              "</style>\n",
              "<table border=\"1\" class=\"dataframe\">\n",
              "  <thead>\n",
              "    <tr style=\"text-align: right;\">\n",
              "      <th></th>\n",
              "      <th>mrr</th>\n",
              "      <th>hits at 1</th>\n",
              "      <th>hits at 3</th>\n",
              "      <th>hits at 10</th>\n",
              "    </tr>\n",
              "  </thead>\n",
              "  <tbody>\n",
              "    <tr>\n",
              "      <th>raw</th>\n",
              "      <td>0.219177</td>\n",
              "      <td>0.161087</td>\n",
              "      <td>0.210276</td>\n",
              "      <td>0.330817</td>\n",
              "    </tr>\n",
              "    <tr>\n",
              "      <th>filtered</th>\n",
              "      <td>0.403561</td>\n",
              "      <td>0.366828</td>\n",
              "      <td>0.404056</td>\n",
              "      <td>0.468999</td>\n",
              "    </tr>\n",
              "  </tbody>\n",
              "</table>\n",
              "</div>"
            ],
            "text/plain": [
              "               mrr  hits at 1  hits at 3  hits at 10\n",
              "raw       0.219177   0.161087   0.210276    0.330817\n",
              "filtered  0.403561   0.366828   0.404056    0.468999"
            ]
          },
          "metadata": {
            "tags": []
          },
          "execution_count": 40
        }
      ]
    }
  ]
}